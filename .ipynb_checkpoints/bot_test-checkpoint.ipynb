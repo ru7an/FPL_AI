{
 "cells": [
  {
   "cell_type": "code",
   "execution_count": 2,
   "metadata": {},
   "outputs": [],
   "source": [
    "import pandas as pd\n",
    "import numpy as np\n",
    "\n",
    "dataset = pd.read_csv('dataset19_20.csv')\n",
    "new_data = pd.read_csv('https://raw.githubusercontent.com/vaastav/Fantasy-Premier-League/master/data/2020-21/gws/merged_gw.csv')\n"
   ]
  },
  {
   "cell_type": "code",
   "execution_count": 3,
   "metadata": {},
   "outputs": [],
   "source": [
    "features = ['ict_index', 'threat', 'creativity', 'was_home', 'opp_goals_scored','opp_goals_conceded', 'opp_clean_sheets', 'opp_total_points']\n",
    "target = ['total_points']\n"
   ]
  },
  {
   "cell_type": "code",
   "execution_count": 4,
   "metadata": {},
   "outputs": [],
   "source": [
    "X = dataset[features]\n",
    "y = dataset[target]"
   ]
  },
  {
   "cell_type": "code",
   "execution_count": 4,
   "metadata": {},
   "outputs": [],
   "source": [
    "data_team_no = pd.read_csv('teams20_21.csv')\n",
    "\n",
    "new_data[['opp_goals_scored','opp_goals_conceded', 'opp_clean_sheets', 'opp_total_points']] = None\n"
   ]
  },
  {
   "cell_type": "code",
   "execution_count": 5,
   "metadata": {},
   "outputs": [],
   "source": [
    "player = 'son'\n",
    "def player_name():\n",
    "    pl_ds = pd.read_csv('player.csv')\n",
    "    for i in pl_ds['surname_lower']:\n",
    "        if i == player:\n",
    "            player_name = pl_ds.loc[pl_ds['surname_lower']==player]\n",
    "            name = player_name['player_name']\n",
    "            return name.values[0]\n",
    "    for i in pl_ds['surname']:\n",
    "        if i == player:\n",
    "            player_name = pl_ds.loc[pl_ds['surname']==player]\n",
    "            name = player_name['player_name']\n",
    "            return name.values[0]\n",
    "    for i in pl_ds['firstname_lower']:\n",
    "        if i == player:\n",
    "            player_name = pl_ds.loc[pl_ds['firstname_lower']==player]\n",
    "            name = player_name['player_name']\n",
    "            return name.values[0]\n",
    "    for i in pl_ds['firstname']:\n",
    "        if i == player:\n",
    "            player_name = pl_ds.loc[pl_ds['firstname']==player]\n",
    "            name = player_name['player_name']\n",
    "            return name.values[0]\n",
    "\n",
    "\n",
    "X_new = new_data.loc[new_data['name']==player_name()]\n",
    "\n",
    "X_new_data = X_new[features]"
   ]
  },
  {
   "cell_type": "code",
   "execution_count": 6,
   "metadata": {},
   "outputs": [
    {
     "data": {
      "text/html": [
       "<div>\n",
       "<style scoped>\n",
       "    .dataframe tbody tr th:only-of-type {\n",
       "        vertical-align: middle;\n",
       "    }\n",
       "\n",
       "    .dataframe tbody tr th {\n",
       "        vertical-align: top;\n",
       "    }\n",
       "\n",
       "    .dataframe thead th {\n",
       "        text-align: right;\n",
       "    }\n",
       "</style>\n",
       "<table border=\"1\" class=\"dataframe\">\n",
       "  <thead>\n",
       "    <tr style=\"text-align: right;\">\n",
       "      <th></th>\n",
       "      <th>ict_index</th>\n",
       "      <th>threat</th>\n",
       "      <th>creativity</th>\n",
       "      <th>was_home</th>\n",
       "      <th>opp_goals_scored</th>\n",
       "      <th>opp_goals_conceded</th>\n",
       "      <th>opp_clean_sheets</th>\n",
       "      <th>opp_total_points</th>\n",
       "    </tr>\n",
       "  </thead>\n",
       "  <tbody>\n",
       "    <tr>\n",
       "      <th>0</th>\n",
       "      <td>14.35</td>\n",
       "      <td>49.666667</td>\n",
       "      <td>35.716667</td>\n",
       "      <td>0.5</td>\n",
       "      <td>NaN</td>\n",
       "      <td>NaN</td>\n",
       "      <td>NaN</td>\n",
       "      <td>NaN</td>\n",
       "    </tr>\n",
       "  </tbody>\n",
       "</table>\n",
       "</div>"
      ],
      "text/plain": [
       "   ict_index     threat  creativity  was_home  opp_goals_scored  \\\n",
       "0      14.35  49.666667   35.716667       0.5               NaN   \n",
       "\n",
       "   opp_goals_conceded  opp_clean_sheets  opp_total_points  \n",
       "0                 NaN               NaN               NaN  "
      ]
     },
     "execution_count": 6,
     "metadata": {},
     "output_type": "execute_result"
    }
   ],
   "source": [
    "z0 = np.mean(X_new_data)\n",
    "z0_df = pd.DataFrame(z0).transpose()\n",
    "z0_df\n",
    "# print(X_new_data)"
   ]
  },
  {
   "cell_type": "code",
   "execution_count": 7,
   "metadata": {},
   "outputs": [
    {
     "data": {
      "text/html": [
       "<div>\n",
       "<style scoped>\n",
       "    .dataframe tbody tr th:only-of-type {\n",
       "        vertical-align: middle;\n",
       "    }\n",
       "\n",
       "    .dataframe tbody tr th {\n",
       "        vertical-align: top;\n",
       "    }\n",
       "\n",
       "    .dataframe thead th {\n",
       "        text-align: right;\n",
       "    }\n",
       "</style>\n",
       "<table border=\"1\" class=\"dataframe\">\n",
       "  <thead>\n",
       "    <tr style=\"text-align: right;\">\n",
       "      <th></th>\n",
       "      <th>ict_index</th>\n",
       "      <th>threat</th>\n",
       "      <th>creativity</th>\n",
       "      <th>was_home</th>\n",
       "      <th>opp_goals_scored</th>\n",
       "      <th>opp_goals_conceded</th>\n",
       "      <th>opp_clean_sheets</th>\n",
       "      <th>opp_total_points</th>\n",
       "    </tr>\n",
       "  </thead>\n",
       "  <tbody>\n",
       "    <tr>\n",
       "      <th>0</th>\n",
       "      <td>14.35</td>\n",
       "      <td>49.666667</td>\n",
       "      <td>35.716667</td>\n",
       "      <td>True</td>\n",
       "      <td>1.333333</td>\n",
       "      <td>14.666667</td>\n",
       "      <td>1.833333</td>\n",
       "      <td>33.833333</td>\n",
       "    </tr>\n",
       "  </tbody>\n",
       "</table>\n",
       "</div>"
      ],
      "text/plain": [
       "   ict_index     threat  creativity  was_home  opp_goals_scored  \\\n",
       "0      14.35  49.666667   35.716667      True          1.333333   \n",
       "\n",
       "   opp_goals_conceded  opp_clean_sheets  opp_total_points  \n",
       "0           14.666667          1.833333         33.833333  "
      ]
     },
     "execution_count": 7,
     "metadata": {},
     "output_type": "execute_result"
    }
   ],
   "source": [
    "df_team = new_data.loc[new_data['team']=='Man City']\n",
    "df = df_team[['goals_scored', 'goals_conceded', 'clean_sheets', 'total_points']]\n",
    "z = np.sum(df, axis=0)/max(df_team['GW'])\n",
    "z_df = pd.DataFrame(z).transpose()\n",
    "z0_df['was_home'] = True\n",
    "z0_df['opp_goals_scored'] = z_df['goals_scored']\n",
    "z0_df['opp_goals_conceded'] = z_df['goals_conceded']\n",
    "z0_df['opp_clean_sheets'] = z_df['clean_sheets']\n",
    "z0_df['opp_total_points'] = z_df['total_points']\n",
    "next_fix = z0_df\n",
    "next_fix"
   ]
  },
  {
   "cell_type": "code",
   "execution_count": 19,
   "metadata": {},
   "outputs": [
    {
     "name": "stderr",
     "output_type": "stream",
     "text": [
      "/home/ru7an/.local/lib/python3.8/site-packages/sklearn/neural_network/_multilayer_perceptron.py:582: ConvergenceWarning: Stochastic Optimizer: Maximum iterations (500) reached and the optimization hasn't converged yet.\n",
      "  warnings.warn(\n"
     ]
    },
    {
     "data": {
      "text/plain": [
       "MLPRegressor(alpha=0.001, hidden_layer_sizes=(2000,), learning_rate_init=0.01,\n",
       "             max_iter=500, n_iter_no_change=1000, random_state=0)"
      ]
     },
     "execution_count": 19,
     "metadata": {},
     "output_type": "execute_result"
    }
   ],
   "source": [
    "from sklearn.neural_network import MLPRegressor\n",
    "\n",
    "model = MLPRegressor(hidden_layer_sizes=(2000, ), activation='relu', solver='adam', alpha=0.001, batch_size='auto', learning_rate='constant', learning_rate_init=0.01, power_t=0.5, max_iter=500, shuffle=True, random_state=0, warm_start=False, momentum=0.9, nesterovs_momentum=True, early_stopping=False, validation_fraction=0.1, beta_1=0.9, beta_2=0.999, epsilon=1e-08, n_iter_no_change=1000)\n",
    "model.fit(X, y.values.ravel())"
   ]
  },
  {
   "cell_type": "code",
   "execution_count": 20,
   "metadata": {},
   "outputs": [],
   "source": [
    "import joblib"
   ]
  },
  {
   "cell_type": "code",
   "execution_count": 11,
   "metadata": {},
   "outputs": [],
   "source": [
    "m = joblib.dump(model,'model')"
   ]
  },
  {
   "cell_type": "code",
   "execution_count": 12,
   "metadata": {},
   "outputs": [
    {
     "data": {
      "text/plain": [
       "11"
      ]
     },
     "execution_count": 12,
     "metadata": {},
     "output_type": "execute_result"
    }
   ],
   "source": [
    "y_pred = model.predict(z0_df)\n",
    "round(y_pred[0])"
   ]
  },
  {
   "cell_type": "code",
   "execution_count": 13,
   "metadata": {},
   "outputs": [
    {
     "name": "stdout",
     "output_type": "stream",
     "text": [
      "name\n",
      "position\n",
      "team\n",
      "xP\n",
      "assists\n",
      "bonus\n",
      "bps\n",
      "clean_sheets\n",
      "creativity\n",
      "element\n",
      "fixture\n",
      "goals_conceded\n",
      "goals_scored\n",
      "ict_index\n",
      "influence\n",
      "kickoff_time\n",
      "minutes\n",
      "opponent_team\n",
      "own_goals\n",
      "penalties_missed\n",
      "penalties_saved\n",
      "red_cards\n",
      "round\n",
      "saves\n",
      "selected\n",
      "team_a_score\n",
      "team_h_score\n",
      "threat\n",
      "total_points\n",
      "transfers_balance\n",
      "transfers_in\n",
      "transfers_out\n",
      "value\n",
      "was_home\n",
      "yellow_cards\n",
      "GW\n",
      "opp_goals_scored\n",
      "opp_goals_conceded\n",
      "opp_clean_sheets\n",
      "opp_total_points\n"
     ]
    }
   ],
   "source": [
    "for i in new_data:\n",
    "    print (i)"
   ]
  },
  {
   "cell_type": "code",
   "execution_count": 12,
   "metadata": {},
   "outputs": [],
   "source": [
    "# player_name_arr = dataset['name'].unique()\n",
    "# f_pl = []\n",
    "# s_pl = []\n",
    "# f_pl_lower = []\n",
    "# f_pl_upper = []\n",
    "# s_pl_lower = []\n",
    "# s_pl_upper = []\n",
    "\n",
    "# for i in player_name_arr:\n",
    "#     name = i.split()[1]\n",
    "#     if(len(name)<3):\n",
    "#         name = i.split()[2]\n",
    "#     s_pl.append(name)\n",
    "#     s_pl_lower.append(name.lower())\n",
    "#     s_pl_upper.append(name.upper())\n",
    "    \n",
    "\n",
    "# for j in player_name_arr:\n",
    "#     name = j.split()[0]    \n",
    "#     f_pl.append(name)\n",
    "#     f_pl_lower.append(name.lower())\n",
    "#     f_pl_upper.append(name.upper())\n",
    "\n",
    "# df = pd.DataFrame(player_name_arr,columns=['player_name'])\n",
    "\n",
    "# df['firstname'] = f_pl\n",
    "# df['surname'] = s_pl\n",
    "# df['firstname_lower'] = f_pl_lower\n",
    "# df['surname_lower'] = s_pl_lower\n",
    "# df['firstname_upper'] = f_pl_upper\n",
    "# df['surname_upper'] = s_pl_upper\n",
    "\n",
    "# df.to_csv('player.csv')\n"
   ]
  },
  {
   "cell_type": "code",
   "execution_count": 14,
   "metadata": {},
   "outputs": [],
   "source": [
    "status_p = pd.read_csv('https://raw.githubusercontent.com/vaastav/Fantasy-Premier-League/master/data/2020-21/players_raw.csv')"
   ]
  },
  {
   "cell_type": "code",
   "execution_count": 44,
   "metadata": {},
   "outputs": [
    {
     "data": {
      "text/plain": [
       "'Muset Özil'"
      ]
     },
     "execution_count": 44,
     "metadata": {},
     "output_type": "execute_result"
    }
   ],
   "source": [
    "pl = 'Muset Özil'\n",
    "pl"
   ]
  },
  {
   "cell_type": "code",
   "execution_count": 56,
   "metadata": {},
   "outputs": [
    {
     "name": "stdout",
     "output_type": "stream",
     "text": [
      "Fit\n"
     ]
    }
   ],
   "source": [
    "name_split = player_name().split()\n",
    "for i in range(len(status_p)):\n",
    "    for j in range(len(name_split)):\n",
    "        if name_split[j] == status_p['first_name'][i] or name_split[j] == status_p['second_name'][i]:\n",
    "            s = status_p['news']\n",
    "            w = s.replace(np.nan,'Fit', regex=True)\n",
    "            print(w[i])\n",
    "            break"
   ]
  },
  {
   "cell_type": "code",
   "execution_count": null,
   "metadata": {},
   "outputs": [],
   "source": []
  },
  {
   "cell_type": "code",
   "execution_count": 5,
   "metadata": {},
   "outputs": [],
   "source": [
    "from sklearn.model_selection import train_test_split\n",
    "\n",
    "X_train, X_test, y_train, y_test = train_test_split(X, y, random_state=0)"
   ]
  },
  {
   "cell_type": "code",
   "execution_count": 7,
   "metadata": {},
   "outputs": [],
   "source": [
    "model = joblib.load('model')"
   ]
  },
  {
   "cell_type": "code",
   "execution_count": 21,
   "metadata": {},
   "outputs": [
    {
     "data": {
      "text/plain": [
       "0.8470962615046997"
      ]
     },
     "execution_count": 21,
     "metadata": {},
     "output_type": "execute_result"
    }
   ],
   "source": [
    "model.score(X_train, y_train)"
   ]
  },
  {
   "cell_type": "code",
   "execution_count": 22,
   "metadata": {},
   "outputs": [
    {
     "data": {
      "text/plain": [
       "0.850622383668403"
      ]
     },
     "execution_count": 22,
     "metadata": {},
     "output_type": "execute_result"
    }
   ],
   "source": [
    "model.score(X_test, y_test)"
   ]
  },
  {
   "cell_type": "code",
   "execution_count": null,
   "metadata": {},
   "outputs": [],
   "source": []
  }
 ],
 "metadata": {
  "kernelspec": {
   "display_name": "Python 3",
   "language": "python",
   "name": "python3"
  },
  "language_info": {
   "codemirror_mode": {
    "name": "ipython",
    "version": 3
   },
   "file_extension": ".py",
   "mimetype": "text/x-python",
   "name": "python",
   "nbconvert_exporter": "python",
   "pygments_lexer": "ipython3",
   "version": "3.8.5"
  }
 },
 "nbformat": 4,
 "nbformat_minor": 4
}
